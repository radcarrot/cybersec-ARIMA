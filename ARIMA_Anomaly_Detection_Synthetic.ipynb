{
  "cells": [
    {
      "cell_type": "markdown",
      "metadata": {},
      "source": [
        "# \ud83d\udcca Anomaly Detection in Synthetic Network Traffic using ARIMA\n",
        "\n",
        "**Objective:** Use ARIMA to forecast time series network traffic and detect anomalies in synthetic data.\n",
        "\n",
        "We simulate traffic, inject anomalies, and apply the ARIMA model for time-series anomaly detection."
      ]
    },
    {
      "cell_type": "code",
      "execution_count": null,
      "metadata": {},
      "outputs": [],
      "source": [
        "# Step 1: Import Libraries\n",
        "import numpy as np\n",
        "import pandas as pd\n",
        "import matplotlib.pyplot as plt\n",
        "from statsmodels.tsa.arima.model import ARIMA\n",
        "from statsmodels.tsa.stattools import adfuller"
      ]
    },
    {
      "cell_type": "code",
      "execution_count": null,
      "metadata": {},
      "outputs": [],
      "source": [
        "# Step 2: Simulate Synthetic Traffic Data\n",
        "np.random.seed(42)\n",
        "time_index = pd.date_range(start='2024-01-01', periods=1000, freq='T')\n",
        "traffic = np.random.normal(loc=100, scale=10, size=1000)\n",
        "\n",
        "# Inject Anomalies\n",
        "traffic[300] = 200\n",
        "traffic[700] = 250\n",
        "\n",
        "df = pd.DataFrame({'timestamp': time_index, 'bytes': traffic})\n",
        "df.set_index('timestamp', inplace=True)\n",
        "df.head()"
      ]
    },
    {
      "cell_type": "code",
      "execution_count": null,
      "metadata": {},
      "outputs": [],
      "source": [
        "# Step 3: Visualize the Data\n",
        "plt.figure(figsize=(14, 4))\n",
        "plt.plot(df['bytes'], label='Network Traffic')\n",
        "plt.title(\"Synthetic Network Traffic\")\n",
        "plt.xlabel(\"Time\")\n",
        "plt.ylabel(\"Bytes per Minute\")\n",
        "plt.legend()\n",
        "plt.show()"
      ]
    },
    {
      "cell_type": "code",
      "execution_count": null,
      "metadata": {},
      "outputs": [],
      "source": [
        "# Step 4: Check for Stationarity\n",
        "result = adfuller(df['bytes'])\n",
        "print(f\"ADF Statistic: {result[0]}\")\n",
        "print(f\"p-value: {result[1]}\")"
      ]
    },
    {
      "cell_type": "code",
      "execution_count": null,
      "metadata": {},
      "outputs": [],
      "source": [
        "# Step 5: Fit ARIMA Model\n",
        "model = ARIMA(df['bytes'], order=(5,1,0))\n",
        "model_fit = model.fit()\n",
        "model_fit.summary()"
      ]
    },
    {
      "cell_type": "code",
      "execution_count": null,
      "metadata": {},
      "outputs": [],
      "source": [
        "# Step 6: Forecast and Compare\n",
        "forecast = model_fit.predict(start=1, end=len(df)-1, typ='levels')\n",
        "residuals = abs(df['bytes'][1:] - forecast)\n",
        "threshold = residuals.mean() + 3 * residuals.std()\n",
        "anomalies = residuals[residuals > threshold]"
      ]
    },
    {
      "cell_type": "code",
      "execution_count": null,
      "metadata": {},
      "outputs": [],
      "source": [
        "# Step 7: Plot Anomalies\n",
        "plt.figure(figsize=(14, 5))\n",
        "plt.plot(df['bytes'], label='Actual')\n",
        "plt.plot(forecast, color='green', label='Predicted')\n",
        "plt.scatter(anomalies.index, df.loc[anomalies.index, 'bytes'], color='red', label='Anomaly', zorder=5)\n",
        "plt.title(\"Anomaly Detection using ARIMA\")\n",
        "plt.xlabel(\"Time\")\n",
        "plt.ylabel(\"Bytes per Minute\")\n",
        "plt.legend()\n",
        "plt.show()"
      ]
    },
    {
      "cell_type": "markdown",
      "metadata": {},
      "source": [
        "### \u2705 Summary\n",
        "- We simulated network traffic and injected anomalies.\n",
        "- ARIMA modeled normal behavior and forecasted expected values.\n",
        "- Deviations beyond a threshold were flagged as anomalies.\n",
        "- This technique can be applied to logs, traffic flows, or other temporal features in cybersecurity."
      ]
    }
  ],
  "metadata": {
    "kernelspec": {
      "display_name": "Python 3",
      "language": "python",
      "name": "python3"
    },
    "language_info": {
      "name": "python",
      "version": "3.9"
    }
  },
  "nbformat": 4,
  "nbformat_minor": 2
}